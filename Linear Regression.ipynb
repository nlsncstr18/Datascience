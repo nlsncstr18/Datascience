{
 "cells": [
  {
   "cell_type": "code",
   "execution_count": 2,
   "metadata": {},
   "outputs": [
    {
     "name": "stdout",
     "output_type": "stream",
     "text": [
      "hakdog\n"
     ]
    }
   ],
   "source": [
    "print(\"hakdog\")"
   ]
  },
  {
   "cell_type": "code",
   "execution_count": 3,
   "metadata": {},
   "outputs": [],
   "source": [
    "#manual implementations of the linear regression\n"
   ]
  },
  {
   "cell_type": "code",
   "execution_count": 5,
   "metadata": {},
   "outputs": [],
   "source": [
    "import pandas as pd\n",
    "import numpy as np\n",
    "from matplotlib import pyplot as plt\n",
    "\n"
   ]
  },
  {
   "cell_type": "code",
   "execution_count": 14,
   "metadata": {},
   "outputs": [],
   "source": [
    "np.random.seed()\n",
    "x = 2.5 * np.random.rand(100) + 1.5\n",
    "y = 0.5 * np.random.rand(100)\n",
    "df = pd.DataFrame({'x': x, 'y':y})\n"
   ]
  },
  {
   "cell_type": "code",
   "execution_count": 27,
   "metadata": {},
   "outputs": [
    {
     "name": "stdout",
     "output_type": "stream",
     "text": [
      "-0.003775800394628441\n",
      "0.2622570169436901\n"
     ]
    }
   ],
   "source": [
    "xmean = np.mean(x)\n",
    "ymean = np.mean(y)\n",
    "\n",
    "df['xycov'] = ((df['x'] -xmean) * (df['y']-ymean))\n",
    "df['xvar'] = (df['x'] - xmean)**2\n",
    "\n",
    "beta = df['xycov'].sum()/df['xvar'].sum()\n",
    "alpha = ymean - (beta * xmean)\n",
    "\n",
    "print(beta)\n",
    "print(alpha)\n"
   ]
  },
  {
   "cell_type": "code",
   "execution_count": 30,
   "metadata": {},
   "outputs": [
    {
     "data": {
      "text/plain": [
       "array([0.2503878 , 0.2532077 , 0.25090943, 0.25410725, 0.25442248,\n",
       "       0.25376651, 0.25635432, 0.25201936, 0.25580752, 0.24952552,\n",
       "       0.25120244, 0.2493267 , 0.24787619, 0.25063364, 0.25273289,\n",
       "       0.25602497, 0.25640338, 0.25157177, 0.25146329, 0.25440972,\n",
       "       0.255931  , 0.25577543, 0.24826175, 0.25365446, 0.25177782,\n",
       "       0.25369192, 0.25189756, 0.25198187, 0.24967191, 0.25609662,\n",
       "       0.25068966, 0.25274239, 0.25628794, 0.25299935, 0.25174044,\n",
       "       0.25177001, 0.24874713, 0.24724161, 0.25518279, 0.25369291,\n",
       "       0.25237941, 0.25160871, 0.25655981, 0.25260122, 0.24787467,\n",
       "       0.25131023, 0.24844287, 0.25537291, 0.25425079, 0.25544037,\n",
       "       0.24744718, 0.24723591, 0.25422791, 0.25154274, 0.2533403 ,\n",
       "       0.248599  , 0.25062748, 0.24800944, 0.25420437, 0.25433371,\n",
       "       0.25344783, 0.25180829, 0.25229274, 0.25225712, 0.25053842,\n",
       "       0.25266189, 0.24881955, 0.25644887, 0.25335048, 0.2510822 ,\n",
       "       0.24866386, 0.25266419, 0.25446794, 0.24876201, 0.25240378,\n",
       "       0.24987296, 0.25640791, 0.25482161, 0.25267176, 0.2542614 ,\n",
       "       0.25265411, 0.24832869, 0.2557347 , 0.25116222, 0.24812917,\n",
       "       0.25259717, 0.24888935, 0.24910575, 0.24787991, 0.25159274,\n",
       "       0.25054215, 0.24865117, 0.24851988, 0.25457601, 0.2512263 ,\n",
       "       0.25498952, 0.25120564, 0.25387526, 0.2540474 , 0.25446355])"
      ]
     },
     "execution_count": 30,
     "metadata": {},
     "output_type": "execute_result"
    }
   ],
   "source": [
    "#y = bx +a\n",
    "ypred = beta*x + alpha\n",
    "ypred"
   ]
  },
  {
   "cell_type": "code",
   "execution_count": 51,
   "metadata": {},
   "outputs": [
    {
     "data": {
      "image/png": "[encoded data removed]",
      "text/plain": [
       "<Figure size 864x432 with 1 Axes>"
      ]
     },
     "metadata": {
      "needs_background": "light"
     },
     "output_type": "display_data"
    }
   ],
   "source": [
    "#plotting\n",
    "plt.figure(figsize = (12 , 6))\n",
    "plt.plot(x,y, 'bo')\n",
    "plt.plot(x,ypred, 'ro')\n",
    "plt.xlabel('X')\n",
    "plt.ylabel('Y')\n",
    "plt.title('Actual vs Predicted')\n",
    "plt.show()"
   ]
  },
  {
   "cell_type": "code",
   "execution_count": 59,
   "metadata": {},
   "outputs": [],
   "source": [
    "#using sklearn\n",
    "from sklearn.linear_model import LinearRegression\n",
    "\n"
   ]
  },
  {
   "cell_type": "code",
   "execution_count": 78,
   "metadata": {},
   "outputs": [
    {
     "data": {
      "text/html": [
       "<div>\n",
       "<style scoped>\n",
       "    .dataframe tbody tr th:only-of-type {\n",
       "        vertical-align: middle;\n",
       "    }\n",
       "\n",
       "    .dataframe tbody tr th {\n",
       "        vertical-align: top;\n",
       "    }\n",
       "\n",
       "    .dataframe thead th {\n",
       "        text-align: right;\n",
       "    }\n",
       "</style>\n",
       "<table border=\"1\" class=\"dataframe\">\n",
       "  <thead>\n",
       "    <tr style=\"text-align: right;\">\n",
       "      <th></th>\n",
       "      <th>Unnamed: 0</th>\n",
       "      <th>TV</th>\n",
       "      <th>radio</th>\n",
       "      <th>newspaper</th>\n",
       "      <th>sales</th>\n",
       "    </tr>\n",
       "  </thead>\n",
       "  <tbody>\n",
       "    <tr>\n",
       "      <th>0</th>\n",
       "      <td>1</td>\n",
       "      <td>230.1</td>\n",
       "      <td>37.8</td>\n",
       "      <td>69.2</td>\n",
       "      <td>22.1</td>\n",
       "    </tr>\n",
       "    <tr>\n",
       "      <th>1</th>\n",
       "      <td>2</td>\n",
       "      <td>44.5</td>\n",
       "      <td>39.3</td>\n",
       "      <td>45.1</td>\n",
       "      <td>10.4</td>\n",
       "    </tr>\n",
       "    <tr>\n",
       "      <th>2</th>\n",
       "      <td>3</td>\n",
       "      <td>17.2</td>\n",
       "      <td>45.9</td>\n",
       "      <td>69.3</td>\n",
       "      <td>9.3</td>\n",
       "    </tr>\n",
       "    <tr>\n",
       "      <th>3</th>\n",
       "      <td>4</td>\n",
       "      <td>151.5</td>\n",
       "      <td>41.3</td>\n",
       "      <td>58.5</td>\n",
       "      <td>18.5</td>\n",
       "    </tr>\n",
       "    <tr>\n",
       "      <th>4</th>\n",
       "      <td>5</td>\n",
       "      <td>180.8</td>\n",
       "      <td>10.8</td>\n",
       "      <td>58.4</td>\n",
       "      <td>12.9</td>\n",
       "    </tr>\n",
       "  </tbody>\n",
       "</table>\n",
       "</div>"
      ],
      "text/plain": [
       "   Unnamed: 0     TV  radio  newspaper  sales\n",
       "0           1  230.1   37.8       69.2   22.1\n",
       "1           2   44.5   39.3       45.1   10.4\n",
       "2           3   17.2   45.9       69.3    9.3\n",
       "3           4  151.5   41.3       58.5   18.5\n",
       "4           5  180.8   10.8       58.4   12.9"
      ]
     },
     "execution_count": 78,
     "metadata": {},
     "output_type": "execute_result"
    }
   ],
   "source": [
    "ads = pd.read_csv('C:\\ProgramData\\Anaconda3\\sad.csv')\n",
    "ads.head()"
   ]
  },
  {
   "cell_type": "code",
   "execution_count": 71,
   "metadata": {},
   "outputs": [],
   "source": [
    "cols = ['TV', 'radio']\n",
    "X = ads[cols]\n",
    "Y = ads['sales']"
   ]
  },
  {
   "cell_type": "code",
   "execution_count": 72,
   "metadata": {},
   "outputs": [],
   "source": [
    "Im = LinearRegression()\n",
    "model = Im.fit(X,Y)"
   ]
  },
  {
   "cell_type": "code",
   "execution_count": 74,
   "metadata": {},
   "outputs": [
    {
     "name": "stdout",
     "output_type": "stream",
     "text": [
      "alpha = 2.9210999124051362\n",
      "beta = [0.04575482 0.18799423]\n"
     ]
    }
   ],
   "source": [
    "print('alpha = {}' .format(model.intercept_))\n",
    "print('beta = {}'.format(model.coef_))"
   ]
  },
  {
   "cell_type": "code",
   "execution_count": 87,
   "metadata": {},
   "outputs": [
    {
     "name": "stdout",
     "output_type": "stream",
     "text": [
      "[12.34536229]\n"
     ]
    }
   ],
   "source": [
    "#predictions\n",
    "#ypred = bX + a\n",
    "print (model.predict([[44.5, 39.3]]))"
   ]
  },
  {
   "cell_type": "code",
   "execution_count": 3,
   "metadata": {},
   "outputs": [],
   "source": [
    "from numpy import *\n",
    "import matplotlib.pyplot as plt"
   ]
  },
  {
   "cell_type": "code",
   "execution_count": 4,
   "metadata": {},
   "outputs": [
    {
     "data": {
      "image/png": "[encoded data removed]",
      "text/plain": [
       "<Figure size 432x288 with 1 Axes>"
      ]
     },
     "metadata": {
      "needs_background": "light"
     },
     "output_type": "display_data"
    }
   ],
   "source": [
    "dpoints = genfromtxt('C:\\ProgramData\\Anaconda3\\gradient_descent.csv',delimiter = ',')\n",
    "x = array(dpoints[:,0])\n",
    "y = array(dpoints[:,1])\n",
    "\n",
    "plt.scatter(x,y)\n",
    "plt.xlabel('Hours of Study')\n",
    "plt.ylabel('Test Score')\n",
    "plt.show()"
   ]
  },
  {
   "cell_type": "code",
   "execution_count": 5,
   "metadata": {},
   "outputs": [],
   "source": [
    "#hyperparameters\n",
    "#y = mx+b\n",
    "learning_rate = 0.0001\n",
    "initial_b = 0\n",
    "initial_m = 0\n",
    "iterations = 10"
   ]
  },
  {
   "cell_type": "code",
   "execution_count": 10,
   "metadata": {},
   "outputs": [],
   "source": [
    "def compute_perror (b,m,dpoints):\n",
    "    total_error = 0\n",
    "    N = float (len(dpoints))\n",
    "    \n",
    "    for i in range (0, len(dpoints)):\n",
    "        x = dpoints[1,0]\n",
    "        y = dpoints[1,1]\n",
    "        total_error += (y-(m*x+b))**2\n",
    "        \n",
    "    return total_error / N\n",
    "\n",
    "def gradient_descent_runner (dpoints, starting_b, starting_m,learning_rate, iterations):\n",
    "    b = starting_b\n",
    "    m = starting_m\n",
    "    error_graph = []\n",
    "    \n",
    "    for i in range(iterations):\n",
    "        error_graph.append(compute_perror(b,m,dpoints))\n",
    "        b,m = gradient_descent(b,m, array(dpoints),learning_rate)\n",
    "                           \n",
    "    return [b,m,error_graph]\n",
    "        \n",
    "def gradient_descent(b_current, m_current, dpoints, learning_rate):\n",
    "    m_gradient = 0\n",
    "    b_gradient = 0\n",
    "                           \n",
    "    N = float(len(dpoints))\n",
    "                           \n",
    "    for i in range(0, len(dpoints)):\n",
    "                           \n",
    "        x = dpoints[1,0]\n",
    "        y = dpoints[1,1]\n",
    "    \n",
    "        m_gradient += -(2/N)  * x *   (y-m_current * x + b_current)\n",
    "        b_gradient += -(2/N) * (y-m_current * x + b_current)\n",
    "        m_update = m_current - learning_rate * m_gradient\n",
    "        b_update = b_current - learning_rate * b_gradient\n",
    "        \n",
    "    return b_update , m_update\n",
    "        \n",
    "\n"
   ]
  },
  {
   "cell_type": "code",
   "execution_count": 11,
   "metadata": {},
   "outputs": [
    {
     "name": "stdout",
     "output_type": "stream",
     "text": [
      "Optimized b:  0.024098410130226372\n",
      "Optimized m:  1.2875010355410925\n",
      "Minimized error:  0.0011268070647154043\n"
     ]
    }
   ],
   "source": [
    "b, m, error_graph = gradient_descent_runner(dpoints, initial_b, initial_m, learning_rate, iterations)\n",
    "print(\"Optimized b: \",b)\n",
    "print(\"Optimized m: \",m)\n",
    "print(\"Minimized error: \", compute_perror(b, m, dpoints))"
   ]
  },
  {
   "cell_type": "code",
   "execution_count": 13,
   "metadata": {},
   "outputs": [
    {
     "data": {
      "text/plain": [
       "<function matplotlib.pyplot.show(*args, **kw)>"
      ]
     },
     "execution_count": 13,
     "metadata": {},
     "output_type": "execute_result"
    },
    {
     "data": {
      "image/png": "[encoded data removed]",
      "text/plain": [
       "<Figure size 432x288 with 1 Axes>"
      ]
     },
     "metadata": {
      "needs_background": "light"
     },
     "output_type": "display_data"
    }
   ],
   "source": [
    "plt.plot(error_graph)\n",
    "plt.xlabel(\"iterations\")\n",
    "plt.ylabel(\"errors\")\n",
    "plt.show"
   ]
  },
  {
   "cell_type": "code",
   "execution_count": null,
   "metadata": {},
   "outputs": [],
   "source": []
  }
 ],
 "metadata": {
  "kernelspec": {
   "display_name": "Python 3",
   "language": "python",
   "name": "python3"
  },
  "language_info": {
   "codemirror_mode": {
    "name": "ipython",
    "version": 3
   },
   "file_extension": ".py",
   "mimetype": "text/x-python",
   "name": "python",
   "nbconvert_exporter": "python",
   "pygments_lexer": "ipython3",
   "version": "3.7.1"
  }
 },
 "nbformat": 4,
 "nbformat_minor": 2
}
